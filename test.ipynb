{
 "cells": [
  {
   "cell_type": "code",
   "execution_count": 1,
   "metadata": {},
   "outputs": [],
   "source": [
    "from selenium import webdriver\n",
    "driver=webdriver.Chrome('./chromedriver')\n",
    "driver.get(\"https://tinder.com/?lang=en\")"
   ]
  },
  {
   "cell_type": "code",
   "execution_count": 2,
   "metadata": {},
   "outputs": [],
   "source": [
    "window_before = driver.window_handles[0]\n",
    "driver.find_element_by_xpath(\"\"\"//*[@id=\"modal-manager\"]/div/div/div/div/div[3]/div[2]/button\"\"\").click()"
   ]
  },
  {
   "cell_type": "code",
   "execution_count": 3,
   "metadata": {},
   "outputs": [
    {
     "name": "stderr",
     "output_type": "stream",
     "text": [
      "c:\\users\\sarth\\appdata\\local\\programs\\python\\python37-32\\lib\\site-packages\\ipykernel_launcher.py:3: DeprecationWarning: use driver.switch_to.window instead\n",
      "  This is separate from the ipykernel package so we can avoid doing imports until\n"
     ]
    }
   ],
   "source": [
    "window_after = driver.window_handles[1]\n",
    "\n",
    "driver.switch_to_window(window_after)\n"
   ]
  },
  {
   "cell_type": "code",
   "execution_count": 4,
   "metadata": {},
   "outputs": [],
   "source": [
    "email=\"anishasurana6@gmail.com\"\n",
    "pas=\"bububitch\"\n",
    "\n",
    "driver.find_element_by_xpath(\"\"\"//*[@id=\"email\"]\"\"\").send_keys(email)\n",
    "driver.find_element_by_xpath(\"\"\"//*[@id=\"pass\"]\"\"\").send_keys(pas)"
   ]
  },
  {
   "cell_type": "raw",
   "metadata": {},
   "source": [
    "driver.close()"
   ]
  },
  {
   "cell_type": "code",
   "execution_count": 5,
   "metadata": {},
   "outputs": [],
   "source": [
    "driver.find_element_by_xpath(\"\"\"//*[@id=\"u_0_0\"]\"\"\").submit()"
   ]
  },
  {
   "cell_type": "code",
   "execution_count": 6,
   "metadata": {},
   "outputs": [
    {
     "name": "stderr",
     "output_type": "stream",
     "text": [
      "c:\\users\\sarth\\appdata\\local\\programs\\python\\python37-32\\lib\\site-packages\\ipykernel_launcher.py:1: DeprecationWarning: use driver.switch_to.window instead\n",
      "  \"\"\"Entry point for launching an IPython kernel.\n"
     ]
    }
   ],
   "source": [
    "driver.switch_to_window(window_before)"
   ]
  },
  {
   "cell_type": "code",
   "execution_count": 7,
   "metadata": {},
   "outputs": [],
   "source": [
    "location = driver.find_element_by_xpath(\"\"\"//*[@id=\"content\"]/div/div[2]/div/div/div[3]/button[1]/span\"\"\")\n",
    "location.click()\n",
    "import time\n",
    "time.sleep(1)\n",
    "notification = driver.find_element_by_xpath(\"\"\"//*[@id=\"content\"]/div/div[2]/div/div/div[3]/button[1]/span\"\"\")\n",
    "notification.click()\n",
    "\n",
    "##do something about gold pack"
   ]
  },
  {
   "cell_type": "code",
   "execution_count": 70,
   "metadata": {},
   "outputs": [
    {
     "name": "stdout",
     "output_type": "stream",
     "text": [
      "//*[@id='content']/div/div[1]/div/aside/nav/div/div/div/div[2]/div[1]/div[1]/div[7]\n"
     ]
    }
   ],
   "source": [
    "####\n",
    "\n",
    "i='2'\n",
    "xp=\"//*[@id='content']/div/div[1]/div/aside/nav/div/div/div/div[2]/div[1]/div[1]/div[{}]\".format(i)\n",
    "print(xp)\n",
    "# driver.find_element_by_xpath(xp).click()\n",
    "# driver.find_element_by_xpath(\"//*[@id='content']/div/div[1]/div/aside/nav/div/div/div/div[2]/div[1]/div[1]/div['\"+ i +\"']\").click()\n",
    "# driver.find_element_by_xpath(\"//*[@id='content']/div/div[1]/div/aside/nav/div/div/div/div[2]/div[1]/div[1]/div[14]\").click()"
   ]
  },
  {
   "cell_type": "code",
   "execution_count": 53,
   "metadata": {},
   "outputs": [
    {
     "name": "stdout",
     "output_type": "stream",
     "text": [
      "//*[@id='content']/div/div[1]/div/aside/nav/div/div/div/div[2]/div[1]/div[1]/div[1]\n",
      "1\n",
      "//*[@id='content']/div/div[1]/div/aside/nav/div/div/div/div[2]/div[1]/div[1]/div[2]\n",
      "2\n",
      "//*[@id='content']/div/div[1]/div/aside/nav/div/div/div/div[2]/div[1]/div[1]/div[3]\n",
      "3\n",
      "//*[@id='content']/div/div[1]/div/aside/nav/div/div/div/div[2]/div[1]/div[1]/div[4]\n",
      "4\n",
      "//*[@id='content']/div/div[1]/div/aside/nav/div/div/div/div[2]/div[1]/div[1]/div[5]\n",
      "5\n",
      "//*[@id='content']/div/div[1]/div/aside/nav/div/div/div/div[2]/div[1]/div[1]/div[6]\n",
      "6\n",
      "//*[@id='content']/div/div[1]/div/aside/nav/div/div/div/div[2]/div[1]/div[1]/div[7]\n",
      "7\n",
      "//*[@id='content']/div/div[1]/div/aside/nav/div/div/div/div[2]/div[1]/div[1]/div[8]\n",
      "8\n",
      "//*[@id='content']/div/div[1]/div/aside/nav/div/div/div/div[2]/div[1]/div[1]/div[9]\n",
      "9\n",
      "//*[@id='content']/div/div[1]/div/aside/nav/div/div/div/div[2]/div[1]/div[2]/div[1]\n",
      "10\n",
      "//*[@id='content']/div/div[1]/div/aside/nav/div/div/div/div[2]/div[1]/div[2]/div[2]\n",
      "11\n",
      "//*[@id='content']/div/div[1]/div/aside/nav/div/div/div/div[2]/div[1]/div[2]/div[3]\n",
      "12\n",
      "//*[@id='content']/div/div[1]/div/aside/nav/div/div/div/div[2]/div[1]/div[2]/div[4]\n",
      "13\n",
      "//*[@id='content']/div/div[1]/div/aside/nav/div/div/div/div[2]/div[1]/div[2]/div[5]\n",
      "14\n",
      "//*[@id='content']/div/div[1]/div/aside/nav/div/div/div/div[2]/div[1]/div[2]/div[6]\n",
      "15\n",
      "//*[@id='content']/div/div[1]/div/aside/nav/div/div/div/div[2]/div[1]/div[2]/div[7]\n",
      "16\n",
      "//*[@id='content']/div/div[1]/div/aside/nav/div/div/div/div[2]/div[1]/div[2]/div[8]\n",
      "17\n",
      "//*[@id='content']/div/div[1]/div/aside/nav/div/div/div/div[2]/div[1]/div[2]/div[9]\n",
      "18\n",
      "//*[@id='content']/div/div[1]/div/aside/nav/div/div/div/div[2]/div[1]/div[3]/div[1]\n",
      "19\n",
      "//*[@id='content']/div/div[1]/div/aside/nav/div/div/div/div[2]/div[1]/div[3]/div[2]\n",
      "20\n",
      "//*[@id='content']/div/div[1]/div/aside/nav/div/div/div/div[2]/div[1]/div[3]/div[3]\n",
      "21\n",
      "//*[@id='content']/div/div[1]/div/aside/nav/div/div/div/div[2]/div[1]/div[3]/div[4]\n",
      "22\n",
      "//*[@id='content']/div/div[1]/div/aside/nav/div/div/div/div[2]/div[1]/div[3]/div[5]\n",
      "23\n",
      "//*[@id='content']/div/div[1]/div/aside/nav/div/div/div/div[2]/div[1]/div[3]/div[6]\n"
     ]
    },
    {
     "ename": "NoSuchElementException",
     "evalue": "Message: no such element: Unable to locate element: {\"method\":\"xpath\",\"selector\":\"//*[@id='content']/div/div[1]/div/aside/nav/div/div/div/div[2]/div[1]/div[3]/div[6]\"}\n  (Session info: chrome=78.0.3904.70)\n",
     "output_type": "error",
     "traceback": [
      "\u001b[1;31m---------------------------------------------------------------------------\u001b[0m",
      "\u001b[1;31mNoSuchElementException\u001b[0m                    Traceback (most recent call last)",
      "\u001b[1;32m<ipython-input-53-f36c6492cd7e>\u001b[0m in \u001b[0;36m<module>\u001b[1;34m\u001b[0m\n\u001b[0;32m      9\u001b[0m         \u001b[0mxp1\u001b[0m\u001b[1;33m=\u001b[0m\u001b[1;34m\"//*[@id='content']/div/div[1]/div/aside/nav/div/div/div/div[2]/div[1]/div[{}]/div[{}]\"\u001b[0m\u001b[1;33m.\u001b[0m\u001b[0mformat\u001b[0m\u001b[1;33m(\u001b[0m\u001b[0mi\u001b[0m\u001b[1;33m,\u001b[0m\u001b[0mj\u001b[0m\u001b[1;33m)\u001b[0m\u001b[1;33m\u001b[0m\u001b[1;33m\u001b[0m\u001b[0m\n\u001b[0;32m     10\u001b[0m         \u001b[0mprint\u001b[0m\u001b[1;33m(\u001b[0m\u001b[0mxp1\u001b[0m\u001b[1;33m)\u001b[0m\u001b[1;33m\u001b[0m\u001b[1;33m\u001b[0m\u001b[0m\n\u001b[1;32m---> 11\u001b[1;33m         \u001b[0mdriver\u001b[0m\u001b[1;33m.\u001b[0m\u001b[0mfind_element_by_xpath\u001b[0m\u001b[1;33m(\u001b[0m\u001b[0mxp1\u001b[0m\u001b[1;33m)\u001b[0m\u001b[1;33m.\u001b[0m\u001b[0mclick\u001b[0m\u001b[1;33m(\u001b[0m\u001b[1;33m)\u001b[0m\u001b[1;33m\u001b[0m\u001b[1;33m\u001b[0m\u001b[0m\n\u001b[0m\u001b[0;32m     12\u001b[0m         \u001b[0mtime\u001b[0m\u001b[1;33m.\u001b[0m\u001b[0msleep\u001b[0m\u001b[1;33m(\u001b[0m\u001b[1;36m2\u001b[0m\u001b[1;33m)\u001b[0m\u001b[1;33m\u001b[0m\u001b[1;33m\u001b[0m\u001b[0m\n\u001b[0;32m     13\u001b[0m         \u001b[0mcount\u001b[0m\u001b[1;33m+=\u001b[0m\u001b[1;36m1\u001b[0m\u001b[1;33m\u001b[0m\u001b[1;33m\u001b[0m\u001b[0m\n",
      "\u001b[1;32mc:\\users\\sarth\\appdata\\local\\programs\\python\\python37-32\\lib\\site-packages\\selenium\\webdriver\\remote\\webdriver.py\u001b[0m in \u001b[0;36mfind_element_by_xpath\u001b[1;34m(self, xpath)\u001b[0m\n\u001b[0;32m    392\u001b[0m             \u001b[0melement\u001b[0m \u001b[1;33m=\u001b[0m \u001b[0mdriver\u001b[0m\u001b[1;33m.\u001b[0m\u001b[0mfind_element_by_xpath\u001b[0m\u001b[1;33m(\u001b[0m\u001b[1;34m'//div/td[1]'\u001b[0m\u001b[1;33m)\u001b[0m\u001b[1;33m\u001b[0m\u001b[1;33m\u001b[0m\u001b[0m\n\u001b[0;32m    393\u001b[0m         \"\"\"\n\u001b[1;32m--> 394\u001b[1;33m         \u001b[1;32mreturn\u001b[0m \u001b[0mself\u001b[0m\u001b[1;33m.\u001b[0m\u001b[0mfind_element\u001b[0m\u001b[1;33m(\u001b[0m\u001b[0mby\u001b[0m\u001b[1;33m=\u001b[0m\u001b[0mBy\u001b[0m\u001b[1;33m.\u001b[0m\u001b[0mXPATH\u001b[0m\u001b[1;33m,\u001b[0m \u001b[0mvalue\u001b[0m\u001b[1;33m=\u001b[0m\u001b[0mxpath\u001b[0m\u001b[1;33m)\u001b[0m\u001b[1;33m\u001b[0m\u001b[1;33m\u001b[0m\u001b[0m\n\u001b[0m\u001b[0;32m    395\u001b[0m \u001b[1;33m\u001b[0m\u001b[0m\n\u001b[0;32m    396\u001b[0m     \u001b[1;32mdef\u001b[0m \u001b[0mfind_elements_by_xpath\u001b[0m\u001b[1;33m(\u001b[0m\u001b[0mself\u001b[0m\u001b[1;33m,\u001b[0m \u001b[0mxpath\u001b[0m\u001b[1;33m)\u001b[0m\u001b[1;33m:\u001b[0m\u001b[1;33m\u001b[0m\u001b[1;33m\u001b[0m\u001b[0m\n",
      "\u001b[1;32mc:\\users\\sarth\\appdata\\local\\programs\\python\\python37-32\\lib\\site-packages\\selenium\\webdriver\\remote\\webdriver.py\u001b[0m in \u001b[0;36mfind_element\u001b[1;34m(self, by, value)\u001b[0m\n\u001b[0;32m    976\u001b[0m         return self.execute(Command.FIND_ELEMENT, {\n\u001b[0;32m    977\u001b[0m             \u001b[1;34m'using'\u001b[0m\u001b[1;33m:\u001b[0m \u001b[0mby\u001b[0m\u001b[1;33m,\u001b[0m\u001b[1;33m\u001b[0m\u001b[1;33m\u001b[0m\u001b[0m\n\u001b[1;32m--> 978\u001b[1;33m             'value': value})['value']\n\u001b[0m\u001b[0;32m    979\u001b[0m \u001b[1;33m\u001b[0m\u001b[0m\n\u001b[0;32m    980\u001b[0m     \u001b[1;32mdef\u001b[0m \u001b[0mfind_elements\u001b[0m\u001b[1;33m(\u001b[0m\u001b[0mself\u001b[0m\u001b[1;33m,\u001b[0m \u001b[0mby\u001b[0m\u001b[1;33m=\u001b[0m\u001b[0mBy\u001b[0m\u001b[1;33m.\u001b[0m\u001b[0mID\u001b[0m\u001b[1;33m,\u001b[0m \u001b[0mvalue\u001b[0m\u001b[1;33m=\u001b[0m\u001b[1;32mNone\u001b[0m\u001b[1;33m)\u001b[0m\u001b[1;33m:\u001b[0m\u001b[1;33m\u001b[0m\u001b[1;33m\u001b[0m\u001b[0m\n",
      "\u001b[1;32mc:\\users\\sarth\\appdata\\local\\programs\\python\\python37-32\\lib\\site-packages\\selenium\\webdriver\\remote\\webdriver.py\u001b[0m in \u001b[0;36mexecute\u001b[1;34m(self, driver_command, params)\u001b[0m\n\u001b[0;32m    319\u001b[0m         \u001b[0mresponse\u001b[0m \u001b[1;33m=\u001b[0m \u001b[0mself\u001b[0m\u001b[1;33m.\u001b[0m\u001b[0mcommand_executor\u001b[0m\u001b[1;33m.\u001b[0m\u001b[0mexecute\u001b[0m\u001b[1;33m(\u001b[0m\u001b[0mdriver_command\u001b[0m\u001b[1;33m,\u001b[0m \u001b[0mparams\u001b[0m\u001b[1;33m)\u001b[0m\u001b[1;33m\u001b[0m\u001b[1;33m\u001b[0m\u001b[0m\n\u001b[0;32m    320\u001b[0m         \u001b[1;32mif\u001b[0m \u001b[0mresponse\u001b[0m\u001b[1;33m:\u001b[0m\u001b[1;33m\u001b[0m\u001b[1;33m\u001b[0m\u001b[0m\n\u001b[1;32m--> 321\u001b[1;33m             \u001b[0mself\u001b[0m\u001b[1;33m.\u001b[0m\u001b[0merror_handler\u001b[0m\u001b[1;33m.\u001b[0m\u001b[0mcheck_response\u001b[0m\u001b[1;33m(\u001b[0m\u001b[0mresponse\u001b[0m\u001b[1;33m)\u001b[0m\u001b[1;33m\u001b[0m\u001b[1;33m\u001b[0m\u001b[0m\n\u001b[0m\u001b[0;32m    322\u001b[0m             response['value'] = self._unwrap_value(\n\u001b[0;32m    323\u001b[0m                 response.get('value', None))\n",
      "\u001b[1;32mc:\\users\\sarth\\appdata\\local\\programs\\python\\python37-32\\lib\\site-packages\\selenium\\webdriver\\remote\\errorhandler.py\u001b[0m in \u001b[0;36mcheck_response\u001b[1;34m(self, response)\u001b[0m\n\u001b[0;32m    240\u001b[0m                 \u001b[0malert_text\u001b[0m \u001b[1;33m=\u001b[0m \u001b[0mvalue\u001b[0m\u001b[1;33m[\u001b[0m\u001b[1;34m'alert'\u001b[0m\u001b[1;33m]\u001b[0m\u001b[1;33m.\u001b[0m\u001b[0mget\u001b[0m\u001b[1;33m(\u001b[0m\u001b[1;34m'text'\u001b[0m\u001b[1;33m)\u001b[0m\u001b[1;33m\u001b[0m\u001b[1;33m\u001b[0m\u001b[0m\n\u001b[0;32m    241\u001b[0m             \u001b[1;32mraise\u001b[0m \u001b[0mexception_class\u001b[0m\u001b[1;33m(\u001b[0m\u001b[0mmessage\u001b[0m\u001b[1;33m,\u001b[0m \u001b[0mscreen\u001b[0m\u001b[1;33m,\u001b[0m \u001b[0mstacktrace\u001b[0m\u001b[1;33m,\u001b[0m \u001b[0malert_text\u001b[0m\u001b[1;33m)\u001b[0m\u001b[1;33m\u001b[0m\u001b[1;33m\u001b[0m\u001b[0m\n\u001b[1;32m--> 242\u001b[1;33m         \u001b[1;32mraise\u001b[0m \u001b[0mexception_class\u001b[0m\u001b[1;33m(\u001b[0m\u001b[0mmessage\u001b[0m\u001b[1;33m,\u001b[0m \u001b[0mscreen\u001b[0m\u001b[1;33m,\u001b[0m \u001b[0mstacktrace\u001b[0m\u001b[1;33m)\u001b[0m\u001b[1;33m\u001b[0m\u001b[1;33m\u001b[0m\u001b[0m\n\u001b[0m\u001b[0;32m    243\u001b[0m \u001b[1;33m\u001b[0m\u001b[0m\n\u001b[0;32m    244\u001b[0m     \u001b[1;32mdef\u001b[0m \u001b[0m_value_or_default\u001b[0m\u001b[1;33m(\u001b[0m\u001b[0mself\u001b[0m\u001b[1;33m,\u001b[0m \u001b[0mobj\u001b[0m\u001b[1;33m,\u001b[0m \u001b[0mkey\u001b[0m\u001b[1;33m,\u001b[0m \u001b[0mdefault\u001b[0m\u001b[1;33m)\u001b[0m\u001b[1;33m:\u001b[0m\u001b[1;33m\u001b[0m\u001b[1;33m\u001b[0m\u001b[0m\n",
      "\u001b[1;31mNoSuchElementException\u001b[0m: Message: no such element: Unable to locate element: {\"method\":\"xpath\",\"selector\":\"//*[@id='content']/div/div[1]/div/aside/nav/div/div/div/div[2]/div[1]/div[3]/div[6]\"}\n  (Session info: chrome=78.0.3904.70)\n"
     ]
    }
   ],
   "source": [
    "##Before starting this make sure i,j=0\n",
    "\n",
    "##this stuff depends on size of screen and stuff\n",
    "i=j=0\n",
    "import time\n",
    "count=0\n",
    "for i in range(1,100):\n",
    "    for j in range(1,10):\n",
    "        xp1=\"//*[@id='content']/div/div[1]/div/aside/nav/div/div/div/div[2]/div[1]/div[{}]/div[{}]\".format(i,j)\n",
    "        print(xp1)\n",
    "        driver.find_element_by_xpath(xp1).click()\n",
    "        time.sleep(2)\n",
    "        count+=1\n",
    "        print(count)\n",
    "        #//*[@id=\"content\"]/div/div[1]/div/aside/nav/div/div/div/div[2]/div[1]/div[3]/div[4]"
   ]
  },
  {
   "cell_type": "code",
   "execution_count": 19,
   "metadata": {},
   "outputs": [
    {
     "name": "stdout",
     "output_type": "stream",
     "text": [
      "Shiva\n",
      "22\n"
     ]
    }
   ],
   "source": [
    "from bs4 import BeautifulSoup\n",
    "soup = BeautifulSoup(driver.page_source,'lxml')\n",
    "name = soup.find(class_='Fz($xl) Fw($bold) Flxs($flx1) Flw(w) Pend(8px)').getText()\n",
    "print(name)\n",
    "age = soup.find(class_='Whs(nw) Fz($l)').getText()\n",
    "print(age)"
   ]
  },
  {
   "cell_type": "code",
   "execution_count": 37,
   "metadata": {},
   "outputs": [
    {
     "name": "stdout",
     "output_type": "stream",
     "text": [
      "<div class=\"Mend(4px) D(ib) Va(t)\"><svg aria-hidden=\"true\" class=\"Sq(16px)\" focusable=\"false\" height=\"24px\" role=\"presentation\" viewbox=\"0 0 24 24\" width=\"24px\"><g fill=\"none\" fill-rule=\"evenodd\" stroke=\"#757575\" stroke-width=\".936\" transform=\"translate(2 5)\"><rect height=\"9.637\" rx=\".936\" width=\"9.988\" x=\"5.006\" y=\"3.489\"></rect><path d=\"M7.15 3.434h5.7V1.452a.728.728 0 0 0-.724-.732H7.874a.737.737 0 0 0-.725.732v1.982z\"></path><rect height=\"9.637\" rx=\".936\" width=\"18.56\" x=\".72\" y=\"3.489\"></rect></g></svg></div>\n"
     ]
    }
   ],
   "source": [
    "driver.find_element_by_xpath(\"\"\"//*[@id=\"content\"]/div/div[1]/div/aside/nav/div/div/div/div[2]/div[1]/div[1]/div[5]\"\"\").click()\n",
    "\n",
    "soup1  = BeautifulSoup(driver.page_source,'lxml')\n",
    "xy=soup1.find('div',class_='Mend(4px) D(ib) Va(t)')\n",
    "print(xy)"
   ]
  },
  {
   "cell_type": "code",
   "execution_count": 38,
   "metadata": {},
   "outputs": [
    {
     "data": {
      "text/plain": [
       "<path d=\"M7.15 3.434h5.7V1.452a.728.728 0 0 0-.724-.732H7.874a.737.737 0 0 0-.725.732v1.982z\"></path>"
      ]
     },
     "execution_count": 38,
     "metadata": {},
     "output_type": "execute_result"
    }
   ],
   "source": [
    "zz=xy.find('path')\n",
    "zz"
   ]
  },
  {
   "cell_type": "code",
   "execution_count": 40,
   "metadata": {},
   "outputs": [
    {
     "name": "stdout",
     "output_type": "stream",
     "text": [
      "it is job\n"
     ]
    }
   ],
   "source": [
    "# zz['d']\n",
    "if 'M7.15 3.434h5.7V1.452a.728.728 0 0 0-.724' in zz['d']:\n",
    "    print(\"it is job\")"
   ]
  },
  {
   "cell_type": "code",
   "execution_count": 43,
   "metadata": {},
   "outputs": [],
   "source": [
    "driver.find_element_by_xpath(\"\"\"//*[@id=\"content\"]/div/div[1]/div/aside/nav/div/div/div/div[2]/div[1]/div[1]/div[5]\"\"\").click()\n"
   ]
  },
  {
   "cell_type": "code",
   "execution_count": 50,
   "metadata": {},
   "outputs": [
    {
     "name": "stdout",
     "output_type": "stream",
     "text": [
      "it is job\n",
      "Wipro Infrastructure Engineering .BANGALORE\n"
     ]
    }
   ],
   "source": [
    "###job\n",
    "\n",
    "soup1  = BeautifulSoup(driver.page_source,'lxml')\n",
    "lmn=soup.find_all('div',class_='Row')\n",
    "ppp=lmn[0].find('path')\n",
    "if 'M7.15 3.434h5.7V1.452a.728.728 0 0 0-.724' in ppp['d']:\n",
    "    print(\"it is job\")\n",
    "    print(lmn[0].getText())\n"
   ]
  },
  {
   "cell_type": "code",
   "execution_count": 52,
   "metadata": {},
   "outputs": [
    {
     "name": "stdout",
     "output_type": "stream",
     "text": [
      "edu\n",
      "Sri jaydev sikshakendra \n"
     ]
    }
   ],
   "source": [
    "###education\n",
    "\n",
    "ccc=lmn[1].find('path')['d']\n",
    "if 'M11.87 5.026L2.186 9.242c-.25.116-.25.589 0 .705l.474.204v2.622a.78.78 0 0 0-.344.657c0 .42.313.767.69.767.378 0 .692-.348.692-.767a.78.78 0 0 0-.345-.657v-2.322l2.097.921a.42.42 0 0 0-.022.144v3.83c0 .45.27.801.626 1.101.358.302.842.572 1.428.804 1.172.46 2.755.776 4.516.776 1.763 0 3.346-.317 4.518-.777.586-.23 1.07-.501 1.428-.803.' in ccc:\n",
    "    print('edu')\n",
    "    print(lmn[1].getText())\n"
   ]
  },
  {
   "cell_type": "code",
   "execution_count": 56,
   "metadata": {},
   "outputs": [],
   "source": [
    "driver.close()"
   ]
  },
  {
   "cell_type": "code",
   "execution_count": 11,
   "metadata": {},
   "outputs": [
    {
     "data": {
      "text/plain": [
       "['/app/messages/5c836055d310981100b8cf7f5db187ac18401b0100c52efa',\n",
       " '/app/messages/5da9fbe973e0330100fc47995db187ac18401b0100c52efa',\n",
       " '/app/messages/5b9a5bd80ce7bb324d20ac825db187ac18401b0100c52efa',\n",
       " '/app/messages/57b1f6b78a0964551294056d5db187ac18401b0100c52efa',\n",
       " '/app/messages/593af04d79b8de094f2f45c35db187ac18401b0100c52efa']"
      ]
     },
     "execution_count": 11,
     "metadata": {},
     "output_type": "execute_result"
    }
   ],
   "source": [
    "##MATCHES\n",
    "\n",
    "from bs4 import BeautifulSoup\n",
    "soup = BeautifulSoup(driver.page_source, 'lxml')\n",
    "matches_link=[]\n",
    "matches = soup.find_all('a',class_=\"matchListItem D(ib) Pos(r) Ta(c) H(120px) H(180px)--m W(100%) Trsdu($normal) Wc($transform) Scale(1.1):h Op(1):h Mx(0)!\",href=True)\n",
    "matches_len=len(matches) #number of matches\n",
    "for i in range(1,matches_len):\n",
    "    matches_link.append(matches[i]['href'])\n",
    "# for a in matches:\n",
    "#     print(a['href'])\n",
    "matches_link\n",
    "    \n"
   ]
  },
  {
   "cell_type": "code",
   "execution_count": 5,
   "metadata": {},
   "outputs": [
    {
     "name": "stdout",
     "output_type": "stream",
     "text": [
      "37\n"
     ]
    },
    {
     "data": {
      "text/plain": [
       "['https://tinder.com/app/messages/5da9d29b7de68501001589195db187ac18401b0100c52efa',\n",
       " 'https://tinder.com/app/messages/5da0e5670fbb2601001ff13c5db187ac18401b0100c52efa',\n",
       " 'https://tinder.com/app/messages/5da6bf494155dc0100018c275db187ac18401b0100c52efa',\n",
       " 'https://tinder.com/app/messages/5aa941d869568a026d164d365db187ac18401b0100c52efa',\n",
       " 'https://tinder.com/app/messages/5db17f17d6efea0100cc560a5db187ac18401b0100c52efa',\n",
       " 'https://tinder.com/app/messages/5d9f58451004600100bf3d675db187ac18401b0100c52efa',\n",
       " 'https://tinder.com/app/messages/5db184b86e65ff0100621f2d5db187ac18401b0100c52efa',\n",
       " 'https://tinder.com/app/messages/5da2dbe93168d401009c23f05db187ac18401b0100c52efa',\n",
       " 'https://tinder.com/app/messages/5d230cc4a1dce4150068db215db187ac18401b0100c52efa',\n",
       " 'https://tinder.com/app/messages/59ab784ac98b800d2c7709275db187ac18401b0100c52efa',\n",
       " 'https://tinder.com/app/messages/5da42c3842d4260100ef4af55db187ac18401b0100c52efa',\n",
       " 'https://tinder.com/app/messages/5db17c065777cc01006efdc15db187ac18401b0100c52efa',\n",
       " 'https://tinder.com/app/messages/5ca0ad692d17f816000b3b655db187ac18401b0100c52efa',\n",
       " 'https://tinder.com/app/messages/5a69d0981fb6a47f0cc9baad5db187ac18401b0100c52efa',\n",
       " 'https://tinder.com/app/messages/5db18202d9037201007bdb5b5db187ac18401b0100c52efa',\n",
       " 'https://tinder.com/app/messages/58739ca4b122e01872cf5c785db187ac18401b0100c52efa',\n",
       " 'https://tinder.com/app/messages/5db186e2a139ad010045360b5db187ac18401b0100c52efa',\n",
       " 'https://tinder.com/app/messages/5a4cf8512788ab671efbce975db187ac18401b0100c52efa',\n",
       " 'https://tinder.com/app/messages/5c4e0364c156bd110018df105db187ac18401b0100c52efa',\n",
       " 'https://tinder.com/app/messages/5da807724844660100c1f91b5db187ac18401b0100c52efa',\n",
       " 'https://tinder.com/app/messages/58ced87b7be300de7a76ecdb5db187ac18401b0100c52efa',\n",
       " 'https://tinder.com/app/messages/5ad2558b01c59fac39ab6fc45db187ac18401b0100c52efa',\n",
       " 'https://tinder.com/app/messages/5db136d1d6efea0100cc24565db187ac18401b0100c52efa',\n",
       " 'https://tinder.com/app/messages/5561b7ce3fb030e473b6ffe15db187ac18401b0100c52efa',\n",
       " 'https://tinder.com/app/messages/5d8032700bf39ee8754eaf485db187ac18401b0100c52efa',\n",
       " 'https://tinder.com/app/messages/5d5d08393a13161500d929535db187ac18401b0100c52efa',\n",
       " 'https://tinder.com/app/messages/5da29089b302a50100f68e1f5db187ac18401b0100c52efa',\n",
       " 'https://tinder.com/app/messages/5da8b3514792c901000772095db187ac18401b0100c52efa',\n",
       " 'https://tinder.com/app/messages/5c24f01a448d19200aaf88445db187ac18401b0100c52efa',\n",
       " 'https://tinder.com/app/messages/59dfd27b88bf5057151aa7115db187ac18401b0100c52efa',\n",
       " 'https://tinder.com/app/messages/5cac6f27c9c53a150087f1295db187ac18401b0100c52efa',\n",
       " 'https://tinder.com/app/messages/5a656fba1657e223463949f05db187ac18401b0100c52efa',\n",
       " 'https://tinder.com/app/messages/56bb857972f7f5233f4802415db187ac18401b0100c52efa',\n",
       " 'https://tinder.com/app/messages/5d8fb52d4174780100fc2dbc5db187ac18401b0100c52efa',\n",
       " 'https://tinder.com/app/messages/5da5d286cf4c8901008368a25db187ac18401b0100c52efa',\n",
       " 'https://tinder.com/app/messages/5d8e3980d101370100b0270c5db187ac18401b0100c52efa',\n",
       " 'https://tinder.com/app/messages/5da0a1b1ca15650100c2825e5db187ac18401b0100c52efa']"
      ]
     },
     "execution_count": 5,
     "metadata": {},
     "output_type": "execute_result"
    }
   ],
   "source": [
    "##MESSAGES\n",
    "\n",
    "from bs4 import BeautifulSoup\n",
    "soup = BeautifulSoup(driver.page_source, 'lxml')\n",
    "message_link=[]\n",
    "messagesList = soup.find(class_='messageList')\n",
    "messages=messagesList.find_all('a',href=True)\n",
    "for i in range(len(messages)):\n",
    "    message_link.append(\"https://tinder.com\"+messages[i]['href'])\n",
    "print(len(message_link))\n",
    "message_link"
   ]
  },
  {
   "cell_type": "code",
   "execution_count": null,
   "metadata": {},
   "outputs": [],
   "source": []
  },
  {
   "cell_type": "code",
   "execution_count": 17,
   "metadata": {},
   "outputs": [],
   "source": []
  }
 ],
 "metadata": {
  "kernelspec": {
   "display_name": "Python 3",
   "language": "python",
   "name": "python3"
  },
  "language_info": {
   "codemirror_mode": {
    "name": "ipython",
    "version": 3
   },
   "file_extension": ".py",
   "mimetype": "text/x-python",
   "name": "python",
   "nbconvert_exporter": "python",
   "pygments_lexer": "ipython3",
   "version": "3.7.4"
  }
 },
 "nbformat": 4,
 "nbformat_minor": 2
}
